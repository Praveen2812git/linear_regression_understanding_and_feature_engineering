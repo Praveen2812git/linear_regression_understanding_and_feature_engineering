{
 "cells": [
  {
   "cell_type": "markdown",
   "metadata": {},
   "source": [
    "### NumPy library would be required, so code begins by importing it"
   ]
  },
  {
   "cell_type": "code",
   "execution_count": 1,
   "metadata": {},
   "outputs": [],
   "source": [
    "import numpy as np\n",
    "import pandas as pd"
   ]
  },
  {
   "cell_type": "markdown",
   "metadata": {},
   "source": [
    "### Import phi and phi_test from train and test datasets using NumPy's loadtxt function"
   ]
  },
  {
   "cell_type": "code",
   "execution_count": 2,
   "metadata": {},
   "outputs": [],
   "source": [
    "# Import phi from train data set\n",
    "phi = np.loadtxt('data/train.csv', delimiter=',', skiprows=1, usecols=tuple(range(1, 14)))\n",
    "\n",
    "# Import y from train data set\n",
    "y = np.loadtxt('data/train.csv', delimiter=',', skiprows=1, usecols=14, ndmin=2)"
   ]
  },
  {
   "cell_type": "markdown",
   "metadata": {},
   "source": [
    "### Import y from train dataset using the loadtxt function"
   ]
  },
  {
   "cell_type": "code",
   "execution_count": 3,
   "metadata": {},
   "outputs": [],
   "source": [
    "# Import phi_test from test data set\n",
    "phi_test = np.loadtxt('data/test.csv', delimiter=',', skiprows=1, usecols=tuple(range(1, 14)))"
   ]
  },
  {
   "cell_type": "code",
   "execution_count": 4,
   "metadata": {},
   "outputs": [],
   "source": [
    "## Checking\n",
    "# pd.DataFrame(phi)\n",
    "# pd.DataFrame(phi_test)\n",
    "# pd.DataFrame(y)"
   ]
  },
  {
   "cell_type": "markdown",
   "metadata": {},
   "source": [
    "### Concatenate column of 1s to right of phi and phi_test"
   ]
  },
  {
   "cell_type": "code",
   "execution_count": 5,
   "metadata": {},
   "outputs": [],
   "source": [
    "phi = np.concatenate((phi, np.ones((len(phi), 1))), axis=1)\n",
    "phi_test = np.concatenate((phi_test, np.ones((len(phi_test), 1))), axis=1)"
   ]
  },
  {
   "cell_type": "code",
   "execution_count": 6,
   "metadata": {},
   "outputs": [],
   "source": [
    "## Checking\n",
    "# pd.DataFrame(phi)\n",
    "# pd.DataFrame(phi_test)"
   ]
  },
  {
   "cell_type": "markdown",
   "metadata": {},
   "source": [
    "### Apply min max scaling on each column of phi and phi_test"
   ]
  },
  {
   "cell_type": "code",
   "execution_count": 7,
   "metadata": {},
   "outputs": [],
   "source": [
    "for i in range(0, 13):\n",
    "    col_max = max(phi[:, i])\n",
    "    col_min = min(phi[:, i])\n",
    "    phi[:, i] = (phi[:, i] - col_min) / (col_max - col_min)\n",
    "    phi_test[:, i] = (phi_test[:, i] - col_min) / (col_max - col_min)"
   ]
  },
  {
   "cell_type": "markdown",
   "metadata": {},
   "source": [
    "### Apply log scaling on y"
   ]
  },
  {
   "cell_type": "code",
   "execution_count": 8,
   "metadata": {},
   "outputs": [],
   "source": [
    "y = np.log(y)"
   ]
  },
  {
   "cell_type": "code",
   "execution_count": 9,
   "metadata": {},
   "outputs": [],
   "source": [
    "## Checking\n",
    "# pd.DataFrame(phi)\n",
    "# pd.DataFrame(phi_test)\n",
    "# pd.DataFrame(y)"
   ]
  },
  {
   "cell_type": "markdown",
   "metadata": {},
   "source": [
    "### Define a function to calculate change in error function based on phi, w and p norm"
   ]
  },
  {
   "cell_type": "code",
   "execution_count": 10,
   "metadata": {},
   "outputs": [],
   "source": [
    "def delta_w(p, phi, w):\n",
    "    if p == 2:\n",
    "        deltaw = (2 * (np.dot(np.dot(np.transpose(phi), phi), w) -\n",
    "                       np.dot(np.transpose(phi), y)) +\n",
    "                  lambd * p * np.power(np.absolute(w), (p - 1)))\n",
    "    if p > 1 and p < 2:\n",
    "        deltaw = (2 * (np.dot(np.dot(np.transpose(phi), phi), w) -\n",
    "                       np.dot(np.transpose(phi), y)) +\n",
    "                  lambd * p * np.power(np.absolute(w), (p - 1)) * np.sign(w))\n",
    "    return deltaw"
   ]
  },
  {
   "cell_type": "markdown",
   "metadata": {},
   "source": [
    "### Make a dictionary containing filenames as keys and p as values"
   ]
  },
  {
   "cell_type": "code",
   "execution_count": 11,
   "metadata": {},
   "outputs": [],
   "source": [
    "filenames = {'output.csv': 2.0,\n",
    "             'output_p1.csv': 1.75,\n",
    "             'output_p2.csv': 1.5,\n",
    "             'output_p3.csv': 1.3\n",
    "             }"
   ]
  },
  {
   "cell_type": "markdown",
   "metadata": {},
   "source": [
    "### For each item in this dictionary"
   ]
  },
  {
   "cell_type": "code",
   "execution_count": 12,
   "metadata": {},
   "outputs": [],
   "source": [
    "for (fname, p) in filenames.items():\n",
    "    \n",
    "    # Set the w to all 0s\n",
    "    w = np.zeros((14, 1))\n",
    "\n",
    "    # Set an appropriate value for lambda and step size\n",
    "    # lambda value\n",
    "    lambd = 0.2\n",
    "    # Maximum step size\n",
    "    t = 0.00012\n",
    "\n",
    "    # Calculate new value of w\n",
    "    w_new = w - t * delta_w(p, phi, w)\n",
    "\n",
    "    i = 0\n",
    "    # Repeat steps until error between consecutive ws is less than threshold\n",
    "    while(np.linalg.norm(w_new-w) > 10 ** -10):\n",
    "        w = w_new\n",
    "        w_new = w - t * delta_w(p, phi, w)\n",
    "        i = i + 1\n",
    "\n",
    "    # Load values of id from test data file\n",
    "    id_test = np.loadtxt('data/test.csv', dtype='int', delimiter=',',\n",
    "                         skiprows=1, usecols=0, ndmin=2)\n",
    "\n",
    "    # Calculate y for test data using phi test and applying inverse log\n",
    "    y_test = np.exp(np.dot(phi_test, w_new))\n",
    "\n",
    "    # Save the ids and y according to filename from dictionary\n",
    "    np.savetxt(fname, np.concatenate((id_test, y_test), axis=1),\n",
    "               delimiter=',', fmt=['%d', '%f'], header='ID,MEDV', comments='')"
   ]
  }
 ],
 "metadata": {
  "kernelspec": {
   "display_name": "Python 3",
   "language": "python",
   "name": "python3"
  },
  "language_info": {
   "codemirror_mode": {
    "name": "ipython",
    "version": 3
   },
   "file_extension": ".py",
   "mimetype": "text/x-python",
   "name": "python",
   "nbconvert_exporter": "python",
   "pygments_lexer": "ipython3",
   "version": "3.7.3"
  }
 },
 "nbformat": 4,
 "nbformat_minor": 2
}
